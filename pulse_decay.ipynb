{
 "cells": [
  {
   "cell_type": "code",
   "execution_count": 2,
   "metadata": {
    "collapsed": false,
    "deletable": true,
    "editable": true
   },
   "outputs": [],
   "source": [
    "import pandas as pd\n",
    "import numpy as np\n",
    "import matplotlib.pyplot as plt\n",
    "%matplotlib inline\n",
    "from datetime import datetime\n",
    "from sklearn.linear_model import LinearRegression\n"
   ]
  },
  {
   "cell_type": "code",
   "execution_count": 3,
   "metadata": {
    "collapsed": true,
    "deletable": true,
    "editable": true
   },
   "outputs": [],
   "source": [
    "import scipy.optimize as opt\n",
    "import pint\n",
    "from sklearn.metrics import r2_score"
   ]
  },
  {
   "cell_type": "markdown",
   "metadata": {
    "deletable": true,
    "editable": true
   },
   "source": [
    "reading the file: 4 colnames: Date & Time; Pressure (psig); Pressure (VDC); Excitation (VDC)"
   ]
  },
  {
   "cell_type": "code",
   "execution_count": 4,
   "metadata": {
    "collapsed": false,
    "deletable": true,
    "editable": true
   },
   "outputs": [],
   "source": [
    "def load_raw_data(filename, verbose = False):\n",
    "    '''Read csv file of measurement, including time,pressure, temperature etc. \n",
    "        convert time into second\n",
    "        \n",
    "    Args:\n",
    "        filename: str(), the filename(*.csv) that needed to be read \n",
    "        verbose: bool(), print out description if True\n",
    "        \n",
    "    Returns:\n",
    "        t: 1d np.array, time in raw measurement, with unit of second\n",
    "        p: 1d np.array, pressure in raw measurement, with unit of psia (absolute psi) \n",
    "        \n",
    "    '''\n",
    "    df_raw = pd.read_csv(filename, header = 1, usecols=range(3)) \n",
    "    if verbose:\n",
    "        print('basic file info')\n",
    "        print(df_raw.info())\n",
    "\n",
    "    df_raw['time'] = df_raw['Date & Time'].apply(lambda x: datetime.strptime(x,'%m/%d/%Y %H:%M:%S.%f'))\n",
    "    df_raw = df_raw.groupby(['time'], axis=0, as_index=False).mean()\n",
    "    df_raw['time_sec']= df_raw['time'].apply(lambda x: (x-df_raw['time'].iloc[0]).total_seconds())# convert to sec\n",
    "    t = df_raw['time_sec'].values\n",
    "    p = df_raw['Pressure (psia)'].values\n",
    "    \n",
    "    if verbose:\n",
    "        print('return t(time in sec) and p(pressure in psig)')\n",
    "    return t, p\n",
    "\n",
    "def load_sample_info(filename, billets_use = [5], verbose = False):\n",
    "    '''Read excel file to get sample mass/density, get cells volume, get billets volume\n",
    "        calculate sample mass, bulk volume, dead space of reference and sample cells\n",
    "    Args:\n",
    "        filename: str(), the filename(*.csv) that needed to be read\n",
    "        billets_use: list(), the list of billet number in used\n",
    "        verbose: bool(), print out description if True \n",
    "    \n",
    "    Returns:\n",
    "        V_dead_refer: float, the dead volume of reference cell , with unit of cm^3\n",
    "        V_dead_sample: float, the dead volume of sample cell = total cell - billets volume - sample bulk volume\n",
    "            with unit of cm^3\n",
    "        V_bulk: float, the bulk volume of the sample. \n",
    "        \n",
    "    '''\n",
    "    df_sample = pd.read_excel(filename, sheetname='sample')\n",
    "    M_cell_empty = df_sample['Mass_empty_cell'].loc[0]\n",
    "    M_cell_full = df_sample['Mass_sample_cell'].loc[0]\n",
    "    den_sample = df_sample['sample_density(cm^3/g)'].loc[0]\n",
    "    M_sample = M_cell_full  - M_cell_empty\n",
    "    V_bulk = M_sample/den_sample # bulk volume \n",
    "    \n",
    "    df_billets = pd.read_excel(filename, sheetname = 'billets')\n",
    "    No_billets = list(df_billets['No'].values) \n",
    "    V_billets = list(df_billets['volume(cm^3)'].values)\n",
    "    V_billets_use = [V_billets[i] for i,e in enumerate(No_billets) if e in billets_use] \n",
    "    V_billets_total = np.sum(V_billets_use) # total volume of billets in use\n",
    "    #V_billets_total # return\n",
    "\n",
    "    df_cell = pd.read_excel(filename, sheetname = 'cell')\n",
    "    V_sample_cell_empty = df_cell[df_cell['cell_name'] =='sample_cell']['Volume(cm^3)'].values[0] # return \n",
    "    V_refer_cell = df_cell[df_cell['cell_name'] =='reference_cell']['Volume(cm^3)'].values[0] # return\n",
    "    \n",
    "    # calculate dead volume\n",
    "    V_dead_sample = V_sample_cell_empty - V_billets_total #- V_bulk\n",
    "    V_dead_refer = V_refer_cell \n",
    "    \n",
    "    if verbose:\n",
    "        print('return (dead volume of sample cell(cm^3) , dead volume of reference cell(cm^3) , bulk volume of sample(cm^3)')\n",
    "    return V_dead_refer, V_dead_sample, V_bulk\n",
    "\n",
    "def get_leak_rate(t_raw, p_raw, id_leak, verbose = False):\n",
    "    '''Calculate leakage rate at late time, when leakage dominate the pressure decay\n",
    "        use linear regression to get tate_leak by fitting pressure = intersect + rate_leak * time\n",
    "    \n",
    "    Args:\n",
    "        t_raw: 1d np.array, time of raw measurement with unit of second, \n",
    "        p_raw: 1d np.array, pressure of raw measurement with unit of psi,\n",
    "        id_leak, int, index of leak start to dominant, ususally choosing a late time\n",
    "        \n",
    "    Returns:\n",
    "        rate_leak: float, the rate of leakage with unit of psi/sec\n",
    "    '''\n",
    "    delta_id = 19\n",
    "    id_leak -=  delta_id # 5876\n",
    "    linear_model = LinearRegression()\n",
    "    linear_model.fit(t_raw[id_leak:].reshape(-1,1),p_raw[id_leak:].reshape(-1,1)) # convert to (n_row,1) matrix to fit\n",
    "    rate_leak = linear_model.coef_[0][0]\n",
    "    \n",
    "    if verbose:\n",
    "        print('rate of leak in unit (psi/sec)')\n",
    "    return rate_leak\n",
    "\n",
    "def get_three_pressure(t_raw, p_raw, id_leak = 5857, p_vaccum_max = 0.5, r_lowb_elevate = 0.033,\n",
    "                      r_upb_decay  = 0.2, p_lowb_decay = 20, len_final_p = 19):\n",
    "    '''Pick up three stage of the measurements using some criterion \n",
    "            - vaccum stage: pressure is low \n",
    "            - elevated stage: pressure is high\n",
    "            - decay stage: pressure decay, final stage is the end of decay stage\n",
    "        calcualte the average pressure at vaccum stage, elevated stage and final stage\n",
    "        perform leakage correction for decay stage\n",
    "        \n",
    "    Args:\n",
    "        t_raw: 1d np.array, time of raw measurement with unit of second, \n",
    "        p_raw: 1d np.array, pressure of raw measurement with unit of psi,\n",
    "        id_leak, int, index of leak start to dominant, ususally choosing a late time\n",
    "        p_vaccum_max: float, max value for pressure to be considered as vaccum stage\n",
    "        r_lowb_elevate: float, between 0-1, lowerbound ratio, \n",
    "            p_raw > (1- r_lowb_elevate) * p_max to considered as elevate stage\n",
    "        r_upb_decay: float, between 0-1, upperbound ratio\n",
    "        p_lowb_decay: float, lowerbound of pressure; \n",
    "            (p_raw > p_lowb_decay) & (p_raw < p_elevate_mean*(1- r_upb_decay ) to be considered as decay stage\n",
    "        len_final_p: int, > 0, the number of pressure points for averaging final pressure\n",
    "    \n",
    "    Returns:\n",
    "        p_vaccum_mean: float, the mean of vaccum stage pressure, with unit of psi\n",
    "        p_elevate_mean: float, the mean of elevate stage pressure, with unit of psi\n",
    "        p_final_corr_mean: float, the mean of corrected final decay stage pressure, with unit of psi\n",
    "        data_3stage: dict(), key = ['vaccum','elevate','decay']\n",
    "        \n",
    "    '''\n",
    "    # ratio lower bound of\n",
    "    # ratio upper bound of decay \n",
    "    #psi \n",
    "    # main function\n",
    "    id_vaccum = p_raw < p_vaccum_max\n",
    "    p_vaccum = p_raw[id_vaccum] # return\n",
    "    t_vaccum = t_raw[id_vaccum] # return\n",
    "    p_vaccum_mean = np.mean(p_vaccum) #return\n",
    "\n",
    "    # elevated stage \n",
    "    p_max = max(p_raw)\n",
    "    id_elevate = p_raw > (1- r_lowb_elevate) * p_max \n",
    "    p_elevate = p_raw[id_elevate]\n",
    "    t_elevate = t_raw[id_elevate]\n",
    "    p_elevate_mean = np.mean(p_elevate)\n",
    "\n",
    "    # decay stage\n",
    "    id_decay = (p_raw > p_lowb_decay) & (p_raw < p_elevate_mean*(1- r_upb_decay ))\n",
    "    p_decay = p_raw[id_decay]\n",
    "    t_decay = t_raw[id_decay]\n",
    "    p_final_mean = np.mean(p_decay[len(p_decay)-len_final_p : len(p_decay)])\n",
    "\n",
    "    rate_leak = get_leak_rate(t_raw, p_raw, id_leak)\n",
    "    p_decay_corr = p_decay - rate_leak * t_decay \n",
    "    p_final_corr_mean = np.mean(p_decay_corr[len(p_decay_corr)-len_final_p : len(p_decay_corr)])\n",
    "    \n",
    "    p_history = {}\n",
    "    p_history['vaccum'] = {}\n",
    "    p_history['elevate'] = {}\n",
    "    p_history['decay'] = {}\n",
    "    \n",
    "    p_history['vaccum']['p'] = p_vaccum\n",
    "    p_history['vaccum']['t'] = t_vaccum\n",
    "    p_history['elevate']['p'] = p_elevate\n",
    "    p_history['elevate']['t'] = t_elevate\n",
    "    p_history['decay']['p'] = p_decay\n",
    "    p_history['decay']['p_corr'] = p_decay_corr\n",
    "    p_history['decay']['t'] = t_decay\n",
    "    \n",
    "    #id_decay_start = np.where(id_elevate == True)[0][-1]+1 # end of elevate stage index + 1\n",
    "    return p_vaccum_mean, p_elevate_mean, p_final_corr_mean, p_history \n",
    "\n",
    "def get_zfactor_from_p(p):\n",
    "    '''Calcualte z factor with given p using polynomial function\n",
    "        z function is determined by linear regression \n",
    "    Args:\n",
    "        p: float, pressure with unit of psi\n",
    "    \n",
    "    Returns:\n",
    "        z: z factor, no unit\n",
    "        \n",
    "    '''\n",
    "    p_vector = np.array([1, p, p**2, p**3, p**4, p**5])\n",
    "    theta = np.array([0.9999793782, 0.000031122396573, 1.9567389783E-10, \n",
    "                      - 3.5148991187E-14, 1.8413900717E-18, -3.9865334731E-23])\n",
    "    z = theta.dot(p_vector.T)\n",
    "    return z\n",
    "\n",
    "def get_porosity(p_vaccum_mean, p_elevate_mean, p_final_corr_mean, V_dead_refer, V_dead_sample, V_bulk):\n",
    "    '''Calculate porosity of using pulse-decay measurements\n",
    "    \n",
    "    Args:\n",
    "        p_vaccum_mean: float, the mean of vaccum stage pressure, with unit of psi\n",
    "        p_elevate_mean: float, the mean of elevate stage pressure, with unit of psi\n",
    "        p_final_corr_mean: float, the mean of corrected final decay stage pressure, with unit of psi\n",
    "        V_dead_refer: float, the dead volume of reference cell , with unit of cm^3\n",
    "        V_dead_sample: float, the dead volume of sample cell = total cell - billets volume - sample bulk volume\n",
    "            with unit of cm^3\n",
    "        V_bulk: float, the bulk volume of the sample.\n",
    "    \n",
    "    Returns:\n",
    "        porosity: porosity of the sample, with no unit\n",
    "        \n",
    "    '''\n",
    "    \n",
    "    z_vaccum_mean = get_zfactor_from_p(p_vaccum_mean)\n",
    "    z_elevate_mean = get_zfactor_from_p(p_elevate_mean)\n",
    "    z_final_corr_mean = get_zfactor_from_p(p_final_corr_mean)\n",
    "    \n",
    "    temp1 = V_dead_refer * (p_elevate_mean/z_elevate_mean - p_final_corr_mean/z_final_corr_mean) \n",
    "    temp2 = (V_dead_sample - V_bulk)*(p_vaccum_mean/z_vaccum_mean - p_final_corr_mean/z_final_corr_mean) \n",
    "    temp3 = V_bulk * (p_final_corr_mean/z_final_corr_mean - p_vaccum_mean/z_vaccum_mean)\n",
    "    \n",
    "    porosity = (temp1 + temp2)/temp3\n",
    "    return porosity"
   ]
  },
  {
   "cell_type": "code",
   "execution_count": 5,
   "metadata": {
    "collapsed": false,
    "deletable": true,
    "editable": true
   },
   "outputs": [],
   "source": [
    "def main_porosity():\n",
    "    filename = 'HeP0203_raw.csv'\n",
    "    t_raw, p_raw = load_raw_data(filename)\n",
    "    filename =  'instru_info.xlsx'\n",
    "    billets_use = [5]\n",
    "    V_dead_refer, V_dead_sample, V_bulk = load_sample_info(filename, billets_use, verbose = False)\n",
    "    p_vaccum_mean, p_elevate_mean, p_final_corr_mean,_ = get_three_pressure(t_raw, p_raw)\n",
    "    porosity = get_porosity(p_vaccum_mean, p_elevate_mean, p_final_corr_mean, V_dead_refer, V_dead_sample, V_bulk)\n",
    "    #porosity # porosity = 0.092287285753830967\n",
    "    return porosity"
   ]
  },
  {
   "cell_type": "code",
   "execution_count": 6,
   "metadata": {
    "collapsed": false,
    "deletable": true,
    "editable": true
   },
   "outputs": [
    {
     "data": {
      "text/plain": [
       "0.092287285753830967"
      ]
     },
     "execution_count": 6,
     "metadata": {},
     "output_type": "execute_result"
    }
   ],
   "source": [
    "filename = 'HeP0203_raw.csv'\n",
    "t_raw, p_raw = load_raw_data(filename)\n",
    "filename =  'instru_info.xlsx'\n",
    "billets_use = [5]\n",
    "V_dead_refer, V_dead_sample, V_bulk = load_sample_info(filename, billets_use, verbose = False)\n",
    "p_vaccum_mean, p_elevate_mean, p_final_corr_mean, p_history = get_three_pressure(t_raw, p_raw)\n",
    "porosity = get_porosity(p_vaccum_mean, p_elevate_mean, p_final_corr_mean, V_dead_refer, V_dead_sample, V_bulk)\n",
    "porosity # porosity = 0.092287285753830967"
   ]
  },
  {
   "cell_type": "code",
   "execution_count": 7,
   "metadata": {
    "collapsed": false,
    "deletable": true,
    "editable": true
   },
   "outputs": [
    {
     "data": {
      "text/plain": [
       "0.092287285753830967"
      ]
     },
     "execution_count": 7,
     "metadata": {},
     "output_type": "execute_result"
    }
   ],
   "source": [
    "main_porosity()"
   ]
  },
  {
   "cell_type": "markdown",
   "metadata": {
    "deletable": true,
    "editable": true
   },
   "source": [
    "## start to calculate permeability"
   ]
  },
  {
   "cell_type": "code",
   "execution_count": 331,
   "metadata": {
    "collapsed": false,
    "deletable": true,
    "editable": true
   },
   "outputs": [],
   "source": [
    "ureg = pint.UnitRegistry()\n",
    "\n",
    "\n",
    "def get_density(press, z = 1):\n",
    "    \"\"\"\n",
    "    Args:\n",
    "        press: ureg type, \n",
    "    \"\"\"\n",
    "    press = press * ureg['psi']\n",
    "    R_gas_constant = 8.314 * ureg['J/(mol*kelvin)']\n",
    "    Temp = 303.15 * ureg['kelvin']\n",
    "    Mass_molar = 4.0003* ureg['gram/mol']\n",
    "    den = press * Mass_molar / (z * R_gas_constant * Temp)\n",
    "    return den\n",
    "#press = 1 * ureg['atm']\n",
    "\n",
    "\n",
    "\n",
    "#Mass_molar = 28.97* ureg['gram/mol']\n",
    "#R_specific = R_gas_constant / Mass_molar\n",
    "#print(R_specific)\n",
    "V_dead_cell = V_dead_refer +  V_dead_sample -  V_bulk\n",
    "kc = (V_dead_cell) / (porosity * V_bulk)\n",
    "#den.to_base_units() # the air is about 1 kg/m^3\n",
    "den_elevate_mean = get_density(p_elevate_mean)\n",
    "den_vaccum_mean = get_density(p_vaccum_mean)\n",
    "den_final_corr_mean = get_density(p_final_corr_mean)\n",
    "den_c0 = ( den_elevate_mean * V_dead_refer + den_vaccum_mean * (V_dead_sample - V_bulk)) / V_dead_cell \n",
    "den_c0= den_c0*0.975 # !!!!! special operation\n",
    "#print()\n",
    "p_decay_corr = p_history['decay']['p_corr'][50:]# psi\n",
    "p_decay = p_history['decay']['p'][50:]\n",
    "t_decay = p_history['decay']['t'][50:]\n",
    "t_decay = t_decay - t_decay[0]# sec\n",
    "den_decay_corr = get_density(p_decay_corr)\n",
    "den_decay = get_density(p_decay)"
   ]
  },
  {
   "cell_type": "code",
   "execution_count": 332,
   "metadata": {
    "collapsed": false,
    "deletable": true,
    "editable": true
   },
   "outputs": [],
   "source": [
    "FR_ = 1 - (kc+1)*(den_c0 - den_decay)/(den_c0 - den_vaccum_mean)\n",
    "FR_corr = 1 - (kc+1)*(den_c0 - den_decay_corr)/(den_c0 - den_vaccum_mean)\n",
    "#FR_final =  1 - (kc+1)*(den_c0 - den_final_corr_mean)/(den_c0 - den_vaccum_mean)\n",
    "#FR =  "
   ]
  },
  {
   "cell_type": "code",
   "execution_count": 333,
   "metadata": {
    "collapsed": false,
    "deletable": true,
    "editable": true
   },
   "outputs": [
    {
     "data": {
      "text/html": [
       "0.4982077373523237 dimensionless"
      ],
      "text/latex": [
       "$0.4982077373523237\\ dimensionless$"
      ],
      "text/plain": [
       "<Quantity(0.4982077373523237, 'dimensionless')>"
      ]
     },
     "execution_count": 333,
     "metadata": {},
     "output_type": "execute_result"
    }
   ],
   "source": [
    "FR_final1 = V_bulk*(den_final_corr_mean - den_vaccum_mean) / (V_dead_refer*(den_elevate_mean - den_vaccum_mean))\n",
    "FR_final1"
   ]
  },
  {
   "cell_type": "code",
   "execution_count": 345,
   "metadata": {
    "collapsed": false,
    "deletable": true,
    "editable": true
   },
   "outputs": [
    {
     "data": {
      "text/plain": [
       "[<matplotlib.lines.Line2D at 0x16f42c18>]"
      ]
     },
     "execution_count": 345,
     "metadata": {},
     "output_type": "execute_result"
    },
    {
     "data": {
      "image/png": "[encoded data removed]",
      "text/plain": [
       "<matplotlib.figure.Figure at 0x173237b8>"
      ]
     },
     "metadata": {},
     "output_type": "display_data"
    },
    {
     "data": {
      "image/png": "[encoded data removed]",
      "text/plain": [
       "<matplotlib.figure.Figure at 0x174e59e8>"
      ]
     },
     "metadata": {},
     "output_type": "display_data"
    }
   ],
   "source": [
    "plt.figure()\n",
    "#plt.semilogx(t_decay[20:],p_decay_corr[20:],'-')\n",
    "#plt.semilogx(t_decay[20:], FR[20:])\n",
    "#plt.semilogx(t_decay[20:], FR[20:])\n",
    "plt.semilogx(t_decay[:], FR_corr[:],'k--')\n",
    "\n",
    "\n",
    "plt.figure()\n",
    "plt.semilogx(t_decay[:], np.log(FR_corr[:]))\n",
    "plt.semilogx(t_decay[1000:2000], np.log(FR_corr[1000:2000]),'r-')\n",
    "#plt.semilogx([10**2, 10**4],[FR_final, FR_final])\n",
    "#plt.xlim([10**2,10**5])\n"
   ]
  },
  {
   "cell_type": "code",
   "execution_count": 349,
   "metadata": {
    "collapsed": false,
    "deletable": true,
    "editable": true
   },
   "outputs": [
    {
     "name": "stdout",
     "output_type": "stream",
     "text": [
      "<bound method RegressorMixin.score of LinearRegression(copy_X=True, fit_intercept=True, n_jobs=1, normalize=False)>\n",
      "0.000110160733254 0.440724896315\n"
     ]
    }
   ],
   "source": [
    "#np.ln()\n",
    "reg_model = LinearRegression()\n",
    "x = t_decay[1000:2000].reshape(-1,1)\n",
    "y_true = np.log(FR_corr[1000:2000].reshape(-1,1))\n",
    "\n",
    "reg_model.fit(x,y_true)\n",
    "slope = reg_model.coef_[0][0]\n",
    "print(reg_model.score)\n",
    "s1 = -slope\n",
    "y_pred = reg_model.predict(x)\n",
    "r2 = r2_score(y_true, y_pred)\n",
    "print(s1, r2)\n",
    "s1 = s1* ureg('sec^-1')\n",
    "#s1 = s1* ureg('min^-1')"
   ]
  },
  {
   "cell_type": "code",
   "execution_count": 350,
   "metadata": {
    "collapsed": false,
    "deletable": true,
    "editable": true
   },
   "outputs": [
    {
     "data": {
      "text/plain": [
       "3.1864864986900043"
      ]
     },
     "execution_count": 350,
     "metadata": {},
     "output_type": "execute_result"
    }
   ],
   "source": [
    "def func_tangent(x, kc):\n",
    "    return np.tan(x) - (3 * x) / (3 + kc * x**2)\n",
    "x = opt.fsolve(func_tangent, 2, kc)\n",
    "alpha1 = x[0]\n",
    "alpha1"
   ]
  },
  {
   "cell_type": "code",
   "execution_count": 353,
   "metadata": {
    "collapsed": false,
    "deletable": true,
    "editable": true
   },
   "outputs": [
    {
     "name": "stdout",
     "output_type": "stream",
     "text": [
      "0.01 centipoise 0.011739930947127249 / pound_force_per_square_inch 0.718 millimeter 0.0922872857538 0.00011016073325436563 / second\n"
     ]
    },
    {
     "data": {
      "text/html": [
       "8.905464395456915 nanodarcy"
      ],
      "text/latex": [
       "$8.905464395456915\\ \\mathrm{nanodarcy}$"
      ],
      "text/plain": [
       "<Quantity(8.905464395456915, 'nanodarcy')>"
      ]
     },
     "execution_count": 353,
     "metadata": {},
     "output_type": "execute_result"
    }
   ],
   "source": [
    "viscosity = 0.01 * ureg['centipoise']\n",
    "#viscosity = 100* ureg['micropoise']\n",
    "# http://hyperphysics.phy-astr.gsu.edu/hbase/Kinetic/visgas.html\n",
    "cg = 1/(p_final_corr_mean * ureg['psi'])\n",
    "radius_mean = 0.5*( 0.841 * ureg['mm'] + 0.595 * ureg['mm'])\n",
    "print(viscosity, cg, radius_mean, porosity, s1)\n",
    "k = viscosity * cg * porosity * radius_mean**2 * s1 / alpha1**2\n",
    "k.ito_base_units()\n",
    "#print(k)\n",
    "k.ito(ureg['ndarcy'])\n",
    "k = k*1000\n",
    "#k = k * 1E12* 1E9\n",
    "k"
   ]
  },
  {
   "cell_type": "markdown",
   "metadata": {
    "deletable": true,
    "editable": true
   },
   "source": [
    "Gas Compressibility (cg), The gas compressibility should not be confused with the compressibility factor (z), which is the deviation factor from ideal gas behavior.  http://www.fekete.com/SAN/TheoryAndEquations/WellTestTheoryEquations/Gas_Compressibility.htm"
   ]
  },
  {
   "cell_type": "code",
   "execution_count": null,
   "metadata": {
    "collapsed": true,
    "deletable": true,
    "editable": true
   },
   "outputs": [],
   "source": []
  }
 ],
 "metadata": {
  "kernelspec": {
   "display_name": "Python [Root]",
   "language": "python",
   "name": "Python [Root]"
  },
  "language_info": {
   "codemirror_mode": {
    "name": "ipython",
    "version": 3
   },
   "file_extension": ".py",
   "mimetype": "text/x-python",
   "name": "python",
   "nbconvert_exporter": "python",
   "pygments_lexer": "ipython3",
   "version": "3.5.2"
  }
 },
 "nbformat": 4,
 "nbformat_minor": 2
}
