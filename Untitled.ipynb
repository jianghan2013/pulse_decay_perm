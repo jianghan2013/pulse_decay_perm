{
 "cells": [
  {
   "cell_type": "code",
   "execution_count": 2,
   "metadata": {
    "collapsed": true
   },
   "outputs": [],
   "source": [
    "import pandas as pd\n",
    "import numpy as np\n",
    "import matplotlib.pyplot as plt\n",
    "%matplotlib inline"
   ]
  },
  {
   "cell_type": "markdown",
   "metadata": {},
   "source": [
    "convert datime to int  use datetime modulus: https://docs.python.org/3/library/datetime.html; \n",
    "- import from datetime import datetime\n",
    "- e.g. basic idea is to parse string into datetime object. # string, sql, is the neck of the process, you can image it as encoder\n",
    "datatime_object = datetime.strptime('06/15/2016 09:54:58.5399','%m/%d/%Y %I:%M:%S.%f')"
   ]
  },
  {
   "cell_type": "code",
   "execution_count": 14,
   "metadata": {
    "collapsed": false
   },
   "outputs": [
    {
     "name": "stdout",
     "output_type": "stream",
     "text": [
      "<class 'pandas.core.frame.DataFrame'>\n",
      "RangeIndex: 2726 entries, 0 to 2725\n",
      "Data columns (total 4 columns):\n",
      "Date & Time         2726 non-null object\n",
      "Pressure (psig)     2726 non-null float64\n",
      "Pressure (VDC)      2726 non-null float64\n",
      "Excitation (VDC)    2726 non-null float64\n",
      "dtypes: float64(3), object(1)\n",
      "memory usage: 85.3+ KB\n"
     ]
    }
   ],
   "source": [
    "df = pd.read_csv('HEP0208.csv', header = 1, usecols=range(4))\n",
    "df.info()\n",
    "#df['delta'] = (df['Data $ Time']-df['tvalue'].shift()).fillna(0)"
   ]
  },
  {
   "cell_type": "code",
   "execution_count": 31,
   "metadata": {
    "collapsed": true
   },
   "outputs": [],
   "source": [
    "from datetime import datetime"
   ]
  },
  {
   "cell_type": "code",
   "execution_count": 49,
   "metadata": {
    "collapsed": false
   },
   "outputs": [
    {
     "data": {
      "text/plain": [
       "datetime.datetime(2016, 6, 15, 9, 54, 58, 539900)"
      ]
     },
     "execution_count": 49,
     "metadata": {},
     "output_type": "execute_result"
    }
   ],
   "source": [
    "#datetime_object = datetime.strptime('Jun 1 2005  1:33PM', '%b/%d/%Y %I:%M%p')\n",
    "#datatime_object = datetime.strptime('06/15/2016 09:54:58.5399','%m/%d/%Y %I:%M:%S')\n",
    "datatime_object = datetime.strptime('06/15/2016 09:54:58.5399','%m/%d/%Y %I:%M:%S.%f')\n",
    "datatime_object"
   ]
  },
  {
   "cell_type": "code",
   "execution_count": 53,
   "metadata": {
    "collapsed": false
   },
   "outputs": [
    {
     "data": {
      "text/html": [
       "<div>\n",
       "<table border=\"1\" class=\"dataframe\">\n",
       "  <thead>\n",
       "    <tr style=\"text-align: right;\">\n",
       "      <th></th>\n",
       "      <th>Date &amp; Time</th>\n",
       "      <th>Pressure (psig)</th>\n",
       "      <th>Pressure (VDC)</th>\n",
       "      <th>Excitation (VDC)</th>\n",
       "      <th>new_time</th>\n",
       "    </tr>\n",
       "  </thead>\n",
       "  <tbody>\n",
       "    <tr>\n",
       "      <th>0</th>\n",
       "      <td>06/15/2016 09:54:58.5399</td>\n",
       "      <td>14.455476</td>\n",
       "      <td>30.040401</td>\n",
       "      <td>1.224999</td>\n",
       "      <td>2016-06-15 09:54:58.539900</td>\n",
       "    </tr>\n",
       "    <tr>\n",
       "      <th>1</th>\n",
       "      <td>06/15/2016 09:54:58.5409</td>\n",
       "      <td>14.456463</td>\n",
       "      <td>30.035150</td>\n",
       "      <td>1.225015</td>\n",
       "      <td>2016-06-15 09:54:58.540900</td>\n",
       "    </tr>\n",
       "    <tr>\n",
       "      <th>2</th>\n",
       "      <td>06/15/2016 09:54:58.5409</td>\n",
       "      <td>14.455460</td>\n",
       "      <td>30.038915</td>\n",
       "      <td>1.224999</td>\n",
       "      <td>2016-06-15 09:54:58.540900</td>\n",
       "    </tr>\n",
       "    <tr>\n",
       "      <th>3</th>\n",
       "      <td>06/15/2016 09:54:58.5409</td>\n",
       "      <td>14.456260</td>\n",
       "      <td>30.037234</td>\n",
       "      <td>1.225012</td>\n",
       "      <td>2016-06-15 09:54:58.540900</td>\n",
       "    </tr>\n",
       "    <tr>\n",
       "      <th>4</th>\n",
       "      <td>06/15/2016 09:54:58.5409</td>\n",
       "      <td>14.455407</td>\n",
       "      <td>30.037897</td>\n",
       "      <td>1.224998</td>\n",
       "      <td>2016-06-15 09:54:58.540900</td>\n",
       "    </tr>\n",
       "    <tr>\n",
       "      <th>5</th>\n",
       "      <td>06/15/2016 09:54:58.5409</td>\n",
       "      <td>14.456991</td>\n",
       "      <td>30.036604</td>\n",
       "      <td>1.225024</td>\n",
       "      <td>2016-06-15 09:54:58.540900</td>\n",
       "    </tr>\n",
       "    <tr>\n",
       "      <th>6</th>\n",
       "      <td>06/15/2016 09:54:58.5409</td>\n",
       "      <td>14.458247</td>\n",
       "      <td>30.032451</td>\n",
       "      <td>1.225044</td>\n",
       "      <td>2016-06-15 09:54:58.540900</td>\n",
       "    </tr>\n",
       "    <tr>\n",
       "      <th>7</th>\n",
       "      <td>06/15/2016 09:54:58.5409</td>\n",
       "      <td>14.457031</td>\n",
       "      <td>30.030883</td>\n",
       "      <td>1.225024</td>\n",
       "      <td>2016-06-15 09:54:58.540900</td>\n",
       "    </tr>\n",
       "    <tr>\n",
       "      <th>8</th>\n",
       "      <td>06/15/2016 09:54:58.5419</td>\n",
       "      <td>14.455476</td>\n",
       "      <td>30.030738</td>\n",
       "      <td>1.224999</td>\n",
       "      <td>2016-06-15 09:54:58.541900</td>\n",
       "    </tr>\n",
       "    <tr>\n",
       "      <th>9</th>\n",
       "      <td>06/15/2016 09:54:58.5419</td>\n",
       "      <td>14.457455</td>\n",
       "      <td>30.030997</td>\n",
       "      <td>1.225031</td>\n",
       "      <td>2016-06-15 09:54:58.541900</td>\n",
       "    </tr>\n",
       "  </tbody>\n",
       "</table>\n",
       "</div>"
      ],
      "text/plain": [
       "                Date & Time  Pressure (psig)  Pressure (VDC)  \\\n",
       "0  06/15/2016 09:54:58.5399        14.455476       30.040401   \n",
       "1  06/15/2016 09:54:58.5409        14.456463       30.035150   \n",
       "2  06/15/2016 09:54:58.5409        14.455460       30.038915   \n",
       "3  06/15/2016 09:54:58.5409        14.456260       30.037234   \n",
       "4  06/15/2016 09:54:58.5409        14.455407       30.037897   \n",
       "5  06/15/2016 09:54:58.5409        14.456991       30.036604   \n",
       "6  06/15/2016 09:54:58.5409        14.458247       30.032451   \n",
       "7  06/15/2016 09:54:58.5409        14.457031       30.030883   \n",
       "8  06/15/2016 09:54:58.5419        14.455476       30.030738   \n",
       "9  06/15/2016 09:54:58.5419        14.457455       30.030997   \n",
       "\n",
       "   Excitation (VDC)                   new_time  \n",
       "0          1.224999 2016-06-15 09:54:58.539900  \n",
       "1          1.225015 2016-06-15 09:54:58.540900  \n",
       "2          1.224999 2016-06-15 09:54:58.540900  \n",
       "3          1.225012 2016-06-15 09:54:58.540900  \n",
       "4          1.224998 2016-06-15 09:54:58.540900  \n",
       "5          1.225024 2016-06-15 09:54:58.540900  \n",
       "6          1.225044 2016-06-15 09:54:58.540900  \n",
       "7          1.225024 2016-06-15 09:54:58.540900  \n",
       "8          1.224999 2016-06-15 09:54:58.541900  \n",
       "9          1.225031 2016-06-15 09:54:58.541900  "
      ]
     },
     "execution_count": 53,
     "metadata": {},
     "output_type": "execute_result"
    }
   ],
   "source": [
    "df['new_time'] = df['Date & Time'].apply(lambda x: datetime.strptime(x,'%m/%d/%Y %H:%M:%S.%f'))"
   ]
  },
  {
   "cell_type": "code",
   "execution_count": 59,
   "metadata": {
    "collapsed": false
   },
   "outputs": [],
   "source": [
    "a = df['new_time'] - df['new_time'].shift(1)\n",
    "df['new_time_1']= df['new_time'].apply(lambda x: (x-df['new_time'].iloc[0]).total_seconds())"
   ]
  },
  {
   "cell_type": "code",
   "execution_count": 66,
   "metadata": {
    "collapsed": false
   },
   "outputs": [],
   "source": [
    "df_new = df.groupby(['new_time_1'], axis=0, as_index=False).mean()"
   ]
  },
  {
   "cell_type": "code",
   "execution_count": 67,
   "metadata": {
    "collapsed": false
   },
   "outputs": [
    {
     "data": {
      "text/html": [
       "<div>\n",
       "<table border=\"1\" class=\"dataframe\">\n",
       "  <thead>\n",
       "    <tr style=\"text-align: right;\">\n",
       "      <th></th>\n",
       "      <th>new_time_1</th>\n",
       "      <th>Pressure (psig)</th>\n",
       "      <th>Pressure (VDC)</th>\n",
       "      <th>Excitation (VDC)</th>\n",
       "    </tr>\n",
       "  </thead>\n",
       "  <tbody>\n",
       "    <tr>\n",
       "      <th>0</th>\n",
       "      <td>0.000</td>\n",
       "      <td>14.455476</td>\n",
       "      <td>30.040401</td>\n",
       "      <td>1.224999</td>\n",
       "    </tr>\n",
       "    <tr>\n",
       "      <th>1</th>\n",
       "      <td>0.001</td>\n",
       "      <td>14.456551</td>\n",
       "      <td>30.035591</td>\n",
       "      <td>1.225017</td>\n",
       "    </tr>\n",
       "    <tr>\n",
       "      <th>2</th>\n",
       "      <td>0.002</td>\n",
       "      <td>14.457424</td>\n",
       "      <td>30.064422</td>\n",
       "      <td>1.225031</td>\n",
       "    </tr>\n",
       "    <tr>\n",
       "      <th>3</th>\n",
       "      <td>0.003</td>\n",
       "      <td>14.456744</td>\n",
       "      <td>30.082803</td>\n",
       "      <td>1.225020</td>\n",
       "    </tr>\n",
       "    <tr>\n",
       "      <th>4</th>\n",
       "      <td>0.004</td>\n",
       "      <td>14.456017</td>\n",
       "      <td>30.073692</td>\n",
       "      <td>1.225008</td>\n",
       "    </tr>\n",
       "  </tbody>\n",
       "</table>\n",
       "</div>"
      ],
      "text/plain": [
       "   new_time_1  Pressure (psig)  Pressure (VDC)  Excitation (VDC)\n",
       "0       0.000        14.455476       30.040401          1.224999\n",
       "1       0.001        14.456551       30.035591          1.225017\n",
       "2       0.002        14.457424       30.064422          1.225031\n",
       "3       0.003        14.456744       30.082803          1.225020\n",
       "4       0.004        14.456017       30.073692          1.225008"
      ]
     },
     "execution_count": 67,
     "metadata": {},
     "output_type": "execute_result"
    }
   ],
   "source": [
    "df_new.head()"
   ]
  },
  {
   "cell_type": "code",
   "execution_count": null,
   "metadata": {
    "collapsed": true
   },
   "outputs": [],
   "source": []
  }
 ],
 "metadata": {
  "kernelspec": {
   "display_name": "Python [Root]",
   "language": "python",
   "name": "Python [Root]"
  },
  "language_info": {
   "codemirror_mode": {
    "name": "ipython",
    "version": 3
   },
   "file_extension": ".py",
   "mimetype": "text/x-python",
   "name": "python",
   "nbconvert_exporter": "python",
   "pygments_lexer": "ipython3",
   "version": "3.5.2"
  }
 },
 "nbformat": 4,
 "nbformat_minor": 2
}
